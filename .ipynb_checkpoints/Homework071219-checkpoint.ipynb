{
 "cells": [
  {
   "cell_type": "markdown",
   "metadata": {},
   "source": [
    "### (А) Неустойчивое собственное число $\\lambda_{3} \\approx 0.919$ перешло в заданную точку $\\mu_{3}$ в левой полуплоскости комплекснной плоскости. Можно ли добиться этого при условии $\\theta_{3} = 0$?\n",
    "\n",
    "Запишем модель в виде:\n",
    "\n",
    "$\\dot x = \\left[\\begin{matrix}0 & 1 & 0\\\\1 & 0 & 1\\\\0 & -1 & -5\\end{matrix}\\right]x + \\left[\\begin{matrix}0\\\\0\\\\1\\end{matrix}\\right]u $\n",
    "\n",
    "Найдем матрицу $C\\{A, B\\}$:\n",
    "\n",
    "$A * B = \\left[\\begin{matrix}0 & 1 & 0\\\\1 & 0 & 1\\\\0 & -1 & -5\\end{matrix}\\right] *  \\left[\\begin{matrix}0\\\\0\\\\1\\end{matrix}\\right] = \\left[\\begin{matrix}0\\\\1\\\\-5\\end{matrix}\\right]$\n",
    "\n",
    "$A^2 = \\left[\\begin{matrix}0 & 1 & 0\\\\1 & 0 & 1\\\\0 & -1 & -5\\end{matrix}\\right] * \\left[\\begin{matrix}0 & 1 & 0\\\\1 & 0 & 1\\\\0 & -1 & -5\\end{matrix}\\right] = \\left[\\begin{matrix}1 & 0 & 1\\\\0 & 0 & -5\\\\-1 & 5 & 24\\end{matrix}\\right]$\n",
    "\n",
    "$A^2 * B = \\left[\\begin{matrix}1 & 0 & 1\\\\0 & 0 & -5\\\\-1 & 5 & 24\\end{matrix}\\right] *  \\left[\\begin{matrix}0\\\\0\\\\1\\end{matrix}\\right] = \\left[\\begin{matrix}1\\\\-5\\\\24\\end{matrix}\\right]$\n",
    "\n",
    "$ S_{1} = C\\{A, B\\} = \\{B, AB, A^2B\\} = \\left[\\begin{matrix}0 & 0 & 1\\\\0 & 1 & -5\\\\1 & -5 & 24\\end{matrix}\\right]$\n",
    "\n",
    "Её ранг:\n",
    "\n",
    "$rank S_{1} = 3$ \n",
    "\n",
    "Отсюда делаем вывод, что система управляема.\n",
    "\n",
    "Собственные числа матрицы $А$ : $G\\{A\\} = \\{-4.781, -1.138, 0.919\\}$\n",
    "\n",
    "Необходимо перевести $\\lambda_{3} \\approx 0.919$  в $\\mu_{3} = -1.8$\n",
    "\n",
    "$G\\{A + \\theta * B\\} = \\{-4.781, -1.138, -1.8\\}$ \n",
    "\n",
    "Запишем характеристический многочлен для данных собственных векторов.\n",
    "\n",
    "$(\\lambda + 4.781) *(\\lambda + 1.138) * (\\lambda + 1.8) = \\lambda^{3} + 7.719 \\lambda^{2} + 16.094978 \\lambda + 9.7934004$\n",
    "\n",
    "Найдем дополнительную матрицу преобразования $S_{2}$. Для неё необходимо посчитать следующие величины. \n",
    "\n",
    "$\\hat{A} = \\widetilde{A}^{T} = \\left[\\begin{matrix}0 & 1 & 0\\\\0 & 0 & 1\\\\5 & 0 & -5\\end{matrix}\\right]$\n",
    "\n",
    "$\\hat{B} = [0, 0 , 1]^{T}$\n",
    "\n",
    "Матрица $S_{2}$ имеет следующий вид.\n",
    "\n",
    "$S_{2} = C\\{\\hat{A}, \\hat{B}\\} = \\{B, \\hat{A}B, \\hat{A^{2}}B\\} = \\left[\\begin{matrix}0 & 0 & 1\\\\0 & 1 & -5\\\\1 & -5 & 25\\end{matrix}\\right]$\n",
    "\n",
    "Найдем матрицу преобразования $S$\n",
    "\n",
    "$S = S_{1} * S^{-1}_{2} = \\left[\\begin{matrix}1 & 0 & 0\\\\0 & 1 & 0\\\\-1 & 0 & 1\\end{matrix}\\right]$\n",
    "\n",
    "$S^{-1} = \\left[\\begin{matrix}1 & 0 & 0\\\\0 & 1 & 0\\\\1 & 0 & 1\\end{matrix}\\right]$\n",
    "\n",
    "$\\widetilde{\\theta} = (-5 - 7.719, 0 - 16.094978, 5 - 9.7934004) = ( -12.719, - 16.094978, - 4.7934004)$\n",
    "\n",
    "$\\theta = \\widetilde{\\theta} * S^{-1} = \\left[\\begin{matrix}-17.5124004 & -16.094978 & -4.7934004\\end{matrix}\\right]$\n",
    "\n",
    "Ответ:\n",
    "\n",
    "$U = \\theta_{1} * x_{1} + \\theta_{2} * x_{2} + \\theta_{3} * x_{3} =  -12.719* x_{1} - 16.094978 * x_{2} - 4.7934004 * x_{3}$"
   ]
  },
  {
   "cell_type": "markdown",
   "metadata": {},
   "source": [
    "### (В) Пара собственных чисел $\\lambda_{2} \\approx -1.138$ и $\\lambda_{3} \\approx 0.919$ перешла в пару комплексно сопряженных чисел $-1.5 \\pm 2.4i$ в левой полуплоскости комплексной плоскости."
   ]
  },
  {
   "cell_type": "markdown",
   "metadata": {},
   "source": [
    "Найдем $V_{2}$ и $V_{3}$ – левые собственные векторы матрицы $A$, соответствующие $\\lambda_{2} \\approx -1.138$ и $\\lambda_{3} \\approx 0.919$:\n",
    "\n",
    "Сначала $V_{2}$:\n",
    "\n",
    "$V^T_{2}A = -1.138V^T_{2}$ \n",
    "\n",
    "$V^T_{2}(A + 1.138I) = 0$ \n",
    "\n",
    "$\\left[\\begin{matrix}V_{1} & V_{2} & V_{3}\\end{matrix}\\right] * \\left[\\begin{matrix}1.138 & 1 & 0\\\\1 & 1.138 & 1\\\\0 & -1 & -3.862\\end{matrix}\\right] = 0$\n",
    "\n",
    "$\\left[\\begin{matrix}1.138V_{1} + V_{2}\\\\V_{1} + 1.138V_{2} - V_{3}\\\\V_{2} - 3.862V_{3}\\end{matrix}\\right] = 0$\n",
    "\n",
    "Пусть $V_{3} = 1$\n",
    "\n",
    "Тогда:\n",
    "\n",
    "$V_{2} = \\left[\\begin{matrix}-3.394\\\\3.862\\\\1\\end{matrix}\\right]$\n",
    "\n",
    "Аналогично для $V_{3}$:\n",
    "\n",
    "$V^T_{3}A = 0.919V^T_{3}$ \n",
    "\n",
    "$V^T_{3}(A - 0.919I) = 0$ \n",
    "\n",
    "$\\left[\\begin{matrix}V_{1} & V_{2} & V_{3}\\end{matrix}\\right] * \\left[\\begin{matrix}-0.919 & 1 & 0\\\\1 & -0.919 & 1\\\\0 & -1 & -5.919\\end{matrix}\\right] = 0$\n",
    "\n",
    "$\\left[\\begin{matrix}-0.919V_{1} + V_{2}\\\\V_{1} - 0.919V_{2} - V_{3}\\\\V_{2} - 5.919V_{3}\\end{matrix}\\right] = 0$\n",
    "\n",
    "Пусть $V_{3} = 1$\n",
    "\n",
    "Тогда:\n",
    "\n",
    "$V_{3} = \\left[\\begin{matrix}6.439\\\\5.919\\\\1\\end{matrix}\\right]$\n",
    "\n",
    "Теперь мы можем записать матрицу $P^{-1}$, строчками которой являются найденные собственные вектора. В качестве третьего вектора выберем линейно независимый с остальными.\n",
    "\n",
    "$P^{-1} = \\left[\\begin{matrix}-3.394 & 3.862 & 1\\\\6.439 & 5.919 & 1\\\\0 & 0 & 1\\end{matrix}\\right]$\n",
    "\n",
    "Тогда матрица $P$ будет равна:\n",
    "\n",
    "$P = \\left[\\begin{matrix}-0.132 & 0.086 & 0.047\\\\0.143 & 0.076 & -0.219\\\\0 & 0 & 1\\end{matrix}\\right]$\n",
    "\n",
    "$\\hat{A} = P^{-1}AP = \\left[\\begin{matrix}-3.394 & 3.862 & 1\\\\6.439 & 5.919 & 1\\\\0 & 0 & 1\\end{matrix}\\right] * \\left[\\begin{matrix}0 & 1 & 0\\\\1 & 0 & 1\\\\0 & -1 & -5\\end{matrix}\\right] * \\left[\\begin{matrix}-0.132 & 0.086 & 0.047\\\\0.143 & 0.076 & -0.219\\\\0 & 0 & 1\\end{matrix}\\right] = \\left[\\begin{matrix}-1.138 & 0 & 0\\\\0 & 0.919 & 0\\\\-0.143 & -0.076 & -4.781\\end{matrix}\\right]$\n",
    "\n",
    "$\\hat{B} = P^{-1}B =  \\left[\\begin{matrix}-3.394 & 3.862 & 1\\\\6.439 & 5.919 & 1\\\\0 & 0 & 1\\end{matrix}\\right] * \\left[\\begin{matrix}0\\\\0\\\\1\\end{matrix}\\right] = \\left[\\begin{matrix}1\\\\1\\\\1\\end{matrix}\\right]$\n",
    "\n",
    "Управление:\n",
    "\n",
    "$\\hat{\\theta} = \\left[\\begin{matrix}\\theta_{1} & \\theta_{2} & 0\\end{matrix}\\right]$\n",
    "\n",
    "$A_{c} = \\hat{A} + \\hat{B}\\hat{\\theta} = \\left[\\begin{matrix}\\theta_{1}-1.138 & \\theta_{2} & 0\\\\\\theta_{1} & \\theta_{2} + 0.919 & 0\\\\\\theta_{1} -0.143 & \\theta_{2}-0.076 & -4.781\\end{matrix}\\right]$\n",
    "\n",
    "У полученной матрицы рассматриваем главный минор 2-го порядка. Запишем его характеристический многочлен:\n",
    "\n",
    "$\\left[\\begin{matrix}\\theta_{1}-1.138 - \\lambda & \\theta_{2} \\\\\\theta_{1} & \\theta_{2} + 0.919 - \\lambda\\end{matrix}\\right] = \\lambda^2 - (\\theta_{1} + \\theta_{2} - 0.219)\\lambda + (0.919\\theta_{1} - 1.138\\theta_{2} - 1.046)$\n",
    "\n",
    "По теореме Виетта:\n",
    "\n",
    "$\\left\\{\n",
    "  \\begin{array}{ccc}\n",
    "    \\theta_{1} + \\theta_{2} - 0.219 = \\lambda_{1}^* + \\lambda_{2}^* \\\\\n",
    "    0.919\\theta_{1} - 1.138\\theta_{2} - 1.046 = \\lambda_{1}^* \\lambda_{2}^* \\\\\n",
    "  \\end{array}\n",
    "\\right.$\n",
    "\n",
    "Подставляем желаемые моды:\n",
    "\n",
    "$\\left\\{\n",
    "  \\begin{array}{ccc}\n",
    "    \\theta_{1} + \\theta_{2} - 0.219 = \\lambda_{1}^* + \\lambda_{2}^* = -3\\\\\n",
    "    0.919\\theta_{1} - 1.138\\theta_{2} - 1.046 = \\lambda_{1}^* \\lambda_{2}^* = 8.01\\\\\n",
    "  \\end{array}\n",
    "\\right.$\n",
    "\n",
    "Отсюда находим $\\theta_{1}$ и $\\theta_{2}$:\n",
    "\n",
    "Из первого выражения получаем: $\\theta_{1} = -2.781 - \\theta_{2}$\n",
    "\n",
    "Подставляем во второе и получаем: $\\theta_{2} = -5.645$ \n",
    "\n",
    "Тогда $\\theta_{1} = -2.781 + 5.644987 = 2.864$\n",
    "\n",
    "Получаем: $\\hat{\\theta} = \\left[\\begin{matrix}2.864 & -5.645 & 0\\end{matrix}\\right]$\n",
    "\n",
    "$u = \\theta x= \\hat{\\theta}P^{-1}x = \\left[\\begin{matrix}-46.069 & -22.351987 & -2.781\\end{matrix}\\right]x$\n",
    "\n",
    "Сделаем проверку:\n",
    "\n",
    "$A + B\\theta = \\left[\\begin{matrix}0 & 1 & 0\\\\1 & 0 & 1\\\\0 & -1 & -5\\end{matrix}\\right] + \\left[\\begin{matrix}0\\\\0\\\\1\\end{matrix}\\right]\\left[\\begin{matrix}-46.069 & -22.351987 & -2.781\\end{matrix}\\right] =  \\left[\\begin{matrix}0 & 1 & 0\\\\1 & 0 & 1\\\\0 & -1 & -5\\end{matrix}\\right] + \\left[\\begin{matrix}0 & 0 & 0\\\\0 & 0 & 0\\\\-46.069 & -22.351987 & -2.781\\end{matrix}\\right] = \\left[\\begin{matrix}0 & 1 & 0\\\\1 & 0 & 1\\\\-46.069 & -23.351987 & -7.781\\end{matrix}\\right]$\n",
    "\n",
    "Найдем собственные числа полученной матрицы:\n",
    "\n",
    "$\\lambda_{1} \\approx −4.781$\n",
    "\n",
    "$\\lambda_{2} \\approx -1.5 + 2.4i$\n",
    "\n",
    "$\\lambda_{3} \\approx -1.5 - 2.4i$\n",
    "\n",
    "Что и требовалось получить!"
   ]
  },
  {
   "cell_type": "code",
   "execution_count": 13,
   "metadata": {},
   "outputs": [],
   "source": [
    "import sympy as sp\n",
    "import numpy as np"
   ]
  },
  {
   "cell_type": "code",
   "execution_count": 44,
   "metadata": {
    "scrolled": true
   },
   "outputs": [
    {
     "data": {
      "image/png": "[encoded data removed]",
      "text/plain": [
       "<Figure size 460.8x316.8 with 1 Axes>"
      ]
     },
     "metadata": {
      "needs_background": "light"
     },
     "output_type": "display_data"
    }
   ],
   "source": [
    "import numpy as np\n",
    "import matplotlib.pyplot as plt\n",
    "from scipy.integrate import solve_ivp\n",
    "plt.style.use('seaborn-paper')\n",
    "\n",
    "def param_system(**kwargs):\n",
    "    a = 5\n",
    "    thetta = [1,1,1]\n",
    "    \n",
    "    if 'a' in kwargs:\n",
    "        a = kwargs['a']\n",
    "    \n",
    "    if 'thetta' in kwargs:\n",
    "        thetta = kwargs['thetta']\n",
    "        \n",
    "    def control(x):\n",
    "        return np.dot(thetta, x)\n",
    "    \n",
    "    def system(t, x: np.array):\n",
    "        return np.array([\n",
    "            x[1],\n",
    "            x[0] + x[2],\n",
    "            -x[1] - a * x[2] + control(x)\n",
    "        ])\n",
    "    return system\n",
    "\n",
    "\n",
    "pendulum_system = param_system(thetta = [-17.5124004,-16.094978,-4.7934004])\n",
    "time_span = np.arange(0, 30., 0.1)\n",
    "data = solve_ivp(pendulum_system, (time_span[0], time_span[-1]), np.array([1, 1,1]), t_eval=time_span)\n",
    "plt.plot(time_span, data.y[0], time_span, data.y[1], time_span, data.y[2])\n",
    "plt.legend(['x', 'x_dot'], fontsize=16)\n",
    "plt.xlabel('time', fontsize=24)\n",
    "plt.show()"
   ]
  },
  {
   "cell_type": "code",
   "execution_count": 48,
   "metadata": {},
   "outputs": [],
   "source": [
    "A = sp.Matrix([[0, 1, 0], [1, 0 , 1], [0, -1, -5]])\n",
    "B = sp.Matrix([0,0,1])"
   ]
  },
  {
   "cell_type": "code",
   "execution_count": 49,
   "metadata": {},
   "outputs": [
    {
     "data": {
      "text/latex": [
       "$\\displaystyle \\left[\\begin{matrix}0 & 1 & 0\\\\1 & 0 & 1\\\\0 & -1 & -5\\end{matrix}\\right]$"
      ],
      "text/plain": [
       "Matrix([\n",
       "[0,  1,  0],\n",
       "[1,  0,  1],\n",
       "[0, -1, -5]])"
      ]
     },
     "execution_count": 49,
     "metadata": {},
     "output_type": "execute_result"
    }
   ],
   "source": [
    "A"
   ]
  },
  {
   "cell_type": "code",
   "execution_count": 50,
   "metadata": {},
   "outputs": [
    {
     "data": {
      "text/latex": [
       "$\\displaystyle \\left[\\begin{matrix}0\\\\0\\\\1\\end{matrix}\\right]$"
      ],
      "text/plain": [
       "Matrix([\n",
       "[0],\n",
       "[0],\n",
       "[1]])"
      ]
     },
     "execution_count": 50,
     "metadata": {},
     "output_type": "execute_result"
    }
   ],
   "source": [
    "B"
   ]
  },
  {
   "cell_type": "code",
   "execution_count": 51,
   "metadata": {},
   "outputs": [],
   "source": [
    "C = B\n",
    "C = C.row_join(A*B)\n",
    "C = C.row_join(A*A*B)"
   ]
  },
  {
   "cell_type": "code",
   "execution_count": 52,
   "metadata": {},
   "outputs": [
    {
     "data": {
      "text/latex": [
       "$\\displaystyle \\left[\\begin{matrix}0 & 0 & 1\\\\0 & 1 & -5\\\\1 & -5 & 24\\end{matrix}\\right]$"
      ],
      "text/plain": [
       "Matrix([\n",
       "[0,  0,  1],\n",
       "[0,  1, -5],\n",
       "[1, -5, 24]])"
      ]
     },
     "execution_count": 52,
     "metadata": {},
     "output_type": "execute_result"
    }
   ],
   "source": [
    "C"
   ]
  },
  {
   "cell_type": "code",
   "execution_count": 53,
   "metadata": {},
   "outputs": [
    {
     "data": {
      "text/plain": [
       "3"
      ]
     },
     "execution_count": 53,
     "metadata": {},
     "output_type": "execute_result"
    }
   ],
   "source": [
    "C.rank()"
   ]
  },
  {
   "cell_type": "code",
   "execution_count": 54,
   "metadata": {},
   "outputs": [],
   "source": [
    "C_inv = C.inv()"
   ]
  },
  {
   "cell_type": "code",
   "execution_count": 56,
   "metadata": {},
   "outputs": [],
   "source": [
    "A1 = C_inv * A * C"
   ]
  },
  {
   "cell_type": "code",
   "execution_count": 57,
   "metadata": {},
   "outputs": [],
   "source": [
    "B1 = C_inv * B"
   ]
  },
  {
   "cell_type": "code",
   "execution_count": 58,
   "metadata": {},
   "outputs": [
    {
     "data": {
      "text/latex": [
       "$\\displaystyle \\left[\\begin{matrix}1\\\\0\\\\0\\end{matrix}\\right]$"
      ],
      "text/plain": [
       "Matrix([\n",
       "[1],\n",
       "[0],\n",
       "[0]])"
      ]
     },
     "execution_count": 58,
     "metadata": {},
     "output_type": "execute_result"
    }
   ],
   "source": [
    "B1"
   ]
  },
  {
   "cell_type": "code",
   "execution_count": 78,
   "metadata": {},
   "outputs": [
    {
     "data": {
      "text/latex": [
       "$\\displaystyle \\left[\\begin{matrix}0 & 0 & 5\\\\1 & 0 & 0\\\\0 & 1 & -5\\end{matrix}\\right]$"
      ],
      "text/plain": [
       "Matrix([\n",
       "[0, 0,  5],\n",
       "[1, 0,  0],\n",
       "[0, 1, -5]])"
      ]
     },
     "execution_count": 78,
     "metadata": {},
     "output_type": "execute_result"
    }
   ],
   "source": [
    "A1"
   ]
  },
  {
   "cell_type": "code",
   "execution_count": 79,
   "metadata": {},
   "outputs": [
    {
     "data": {
      "text/latex": [
       "$\\displaystyle \\left[\\begin{matrix}1\\\\-5\\\\24\\end{matrix}\\right]$"
      ],
      "text/plain": [
       "Matrix([\n",
       "[ 1],\n",
       "[-5],\n",
       "[24]])"
      ]
     },
     "execution_count": 79,
     "metadata": {},
     "output_type": "execute_result"
    }
   ],
   "source": [
    "A2 = A1.transpose()\n",
    "B2 = sp.Matrix([0, 0, 1])"
   ]
  },
  {
   "cell_type": "code",
   "execution_count": 80,
   "metadata": {},
   "outputs": [],
   "source": [
    "C2 = B2\n",
    "C2 = C2.row_join(A2*B2)\n",
    "C2 = C2.row_join(A2*A2*B2)"
   ]
  },
  {
   "cell_type": "code",
   "execution_count": 75,
   "metadata": {},
   "outputs": [],
   "source": [
    "C2\n",
    "C2_inv = C2.inv()"
   ]
  },
  {
   "cell_type": "code",
   "execution_count": 76,
   "metadata": {},
   "outputs": [],
   "source": [
    "C3 = (C*C2_inv)"
   ]
  },
  {
   "cell_type": "code",
   "execution_count": null,
   "metadata": {},
   "outputs": [],
   "source": []
  }
 ],
 "metadata": {
  "kernelspec": {
   "display_name": "Python 3",
   "language": "python",
   "name": "python3"
  },
  "language_info": {
   "codemirror_mode": {
    "name": "ipython",
    "version": 3
   },
   "file_extension": ".py",
   "mimetype": "text/x-python",
   "name": "python",
   "nbconvert_exporter": "python",
   "pygments_lexer": "ipython3",
   "version": "3.7.1"
  }
 },
 "nbformat": 4,
 "nbformat_minor": 2
}
