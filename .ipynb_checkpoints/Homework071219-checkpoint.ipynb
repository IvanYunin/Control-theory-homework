{
 "cells": [
  {
   "cell_type": "markdown",
   "metadata": {},
   "source": [
    "# Домашнее задание по теории управления\n",
    "## Команда группы 381603 - 3. Дружинин Алексей, Золотарёва Олеся, Юнин Иван."
   ]
  },
  {
   "cell_type": "markdown",
   "metadata": {},
   "source": [
    "### (А) Неустойчивое собственное число $\\lambda_{3} \\approx 0.919$ перешло в заданную точку \\mu_{3} в левой полуплоскости комплекснной плоскости. \n",
    "\n",
    "Запишем модель в виде:\n",
    "\n",
    "$\\dot x = \\left[\\begin{matrix}0 & 1 & 0\\\\1 & 0 & 1\\\\0 & -1 & -5\\end{matrix}\\right]x + \\left[\\begin{matrix}0\\\\0\\\\1\\end{matrix}\\right]u $\n",
    "\n",
    "Найдем матрицу $C\\{A, B\\}$:\n",
    "\n",
    "$A * B = \\left[\\begin{matrix}0 & 1 & 0\\\\1 & 0 & 1\\\\0 & -1 & -5\\end{matrix}\\right] *  \\left[\\begin{matrix}0\\\\0\\\\1\\end{matrix}\\right] = \\left[\\begin{matrix}0\\\\1\\\\-5\\end{matrix}\\right]$\n",
    "\n",
    "$A^2 = \\left[\\begin{matrix}0 & 1 & 0\\\\1 & 0 & 1\\\\0 & -1 & -5\\end{matrix}\\right] * \\left[\\begin{matrix}0 & 1 & 0\\\\1 & 0 & 1\\\\0 & -1 & -5\\end{matrix}\\right] = \\left[\\begin{matrix}1 & 0 & 1\\\\0 & 0 & -5\\\\-1 & 5 & 24\\end{matrix}\\right]$\n",
    "\n",
    "$A^2 * B = \\left[\\begin{matrix}1 & 0 & 1\\\\0 & 0 & -5\\\\-1 & 5 & 24\\end{matrix}\\right] *  \\left[\\begin{matrix}0\\\\0\\\\1\\end{matrix}\\right] = \\left[\\begin{matrix}1\\\\-5\\\\24\\end{matrix}\\right]$\n",
    "\n",
    "$ S_{1} = C\\{A, B\\} = \\{B, AB, A^2B\\} = \\left[\\begin{matrix}0 & 0 & 1\\\\0 & 1 & -5\\\\1 & -5 & 24\\end{matrix}\\right]$\n",
    "\n",
    "Её ранг:\n",
    "\n",
    "$rank S_{1} = 3$ \n",
    "\n",
    "Отсюда делаем вывод, что система управляема.\n",
    "\n",
    "Собственное число матрицы $А$ : $\\lambda_{3} \\approx 0.919$ необходимо перевести в $\\mu_{3} = -1.8$\n",
    "\n",
    "$G\\{A + \\theta * B\\} = \\{-4.781, -1.138, -1.8\\}$ \n",
    "\n",
    "$\\omega^T(A - 0.919I) = 0$ \n",
    "\n",
    "$\\left[\\begin{matrix}\\omega_{1} & \\omega_{2} & \\omega_{3}\\end{matrix}\\right] * \\left[\\begin{matrix}-0.919 & 1 & 0\\\\1 & -0.919 & 1\\\\0 & -1 & -5.919\\end{matrix}\\right] = 0$\n",
    "\n",
    "$\\left[\\begin{matrix}-0.919\\omega_{1} + \\omega_{2}\\\\\\omega_{1} - 0.919\\omega_{2} - \\omega_{3}\\\\\\omega_{2} - 5.919\\omega_{3}\\end{matrix}\\right] = 0$\n",
    "\n",
    "Решим данную систему и получим собственный вектор:\n",
    "\n",
    "$\\omega = \\left[\\begin{matrix}6.441\\\\5.919\\\\1\\end{matrix}\\right]$\n",
    "\n",
    "Теперь мы можем записать матрицу $P^{-1}$, первая строка которой - найденный собственный вектор. В качестве второго и третьего вектора выберем линейно независимые.\n",
    "\n",
    "$P^{-1} = \\left[\\begin{matrix}6.441 & 5.919 & 1\\\\ 0 & 1 & 1\\\\0 & 0 & 1\\end{matrix}\\right]$\n",
    "\n",
    "Тогда матрица $P$ будет равна:\n",
    "\n",
    "$P = \\left[\\begin{matrix}0.155 & -0.919 & 0.764\\\\ 0 & 1 & -1\\\\0 & 0 & 1\\end{matrix}\\right]$\n",
    "\n",
    "$\\hat{A} = P^{-1}AP =\\left[\\begin{matrix}6.441 & 5.919 & 1\\\\ 0 & 1 & 1\\\\0 & 0 & 1\\end{matrix}\\right] * \\left[\\begin{matrix}0 & 1 & 0\\\\1 & 0 & 1\\\\0 & -1 & -5\\end{matrix}\\right] * \\left[\\begin{matrix}0.155 & -0.919 & 0.764\\\\ 0 & 1 & -1\\\\0 & 0 & 1\\end{matrix}\\right] = \\left[\\begin{matrix}0.917 & 0 & 0\\\\0.155 & -1.919 & -3.236\\\\0 & -1 & -4.781\\end{matrix}\\right]$\n",
    "\n",
    "$\\hat{B} = P^{-1}B =  \\left[\\begin{matrix}6.441 & 5.919 & 1\\\\ 0 & 1 & 1\\\\0 & 0 & 1\\end{matrix}\\right] * \\left[\\begin{matrix}0\\\\0\\\\1\\end{matrix}\\right] = \\left[\\begin{matrix}1\\\\1\\\\1\\end{matrix}\\right]$\n",
    "\n",
    "Управление:\n",
    "\n",
    "$\\hat{\\theta} = \\left[\\begin{matrix}\\hat{\\theta_{1}} & 0 & 0\\end{matrix}\\right]$\n",
    "\n",
    "$A_{c} = \\hat{A} + \\hat{B}\\hat{\\theta} = \\left[\\begin{matrix}\\hat{\\theta_{1}}+0.917 & 0 & 0\\\\\\hat{\\theta_{1}}+ 0.155 & -1.919 & -3.236\\\\\\hat{\\theta_{1}} & -1 & -4.781\\end{matrix}\\right]$\n",
    "\n",
    "\n",
    "$\\hat{\\theta_{1}} + 0.917 = -1.8 $\n",
    "\n",
    "$\\hat{\\theta_{1}} = -2.717$\n",
    "\n",
    "Получаем: $\\hat{\\theta} = \\left[\\begin{matrix}-2.717 & 0 & 0\\end{matrix}\\right]$\n",
    "\n",
    "$u = \\theta x= \\hat{\\theta}P^{-1}x = \\left[\\begin{matrix}-17.5 & -16.082 & -2.717\\end{matrix}\\right]x$\n",
    "\n",
    "Сделаем проверку:\n",
    "\n",
    "$A + B\\theta = \\left[\\begin{matrix}0 & 1 & 0\\\\1 & 0 & 1\\\\0 & -1 & -5\\end{matrix}\\right] + \\left[\\begin{matrix}0\\\\0\\\\1\\end{matrix}\\right]\\left[\\begin{matrix}-17.5 & -16.082 & -2.717\\end{matrix}\\right] =  \\left[\\begin{matrix}0 & 1 & 0\\\\1 & 0 & 1\\\\0 & -1 & -5\\end{matrix}\\right] + \\left[\\begin{matrix}0 & 0 & 0\\\\0 & 0 & 0\\\\-17.5 & -16.082 & -2.717\\end{matrix}\\right] = \\left[\\begin{matrix}0 & 1 & 0\\\\1 & 0 & 1\\\\-17.5 & -17.082 & -7.717\\end{matrix}\\right]$\n",
    "\n",
    "\n",
    "Найдем собственные числа полученной матрицы:\n",
    "\n",
    "$\\lambda_{1} \\approx −4.781$\n",
    "\n",
    "$\\lambda_{2} \\approx -1.138$\n",
    "\n",
    "$\\lambda_{3} \\approx -1.8$\n",
    "\n",
    "Что и требовалось получить.\n",
    "\n",
    "### Можно ли добиться этого при условии $\\theta_{3} = 0$?\n",
    "\n",
    "Пусть $\\theta_{3} = 0$\n",
    "\n",
    "$u = \\theta x= \\hat{\\theta}P^{-1}x = \\left[\\begin{matrix}\\theta_{1} & \\theta_{2} & 0\\end{matrix}\\right]x$\n",
    "\n",
    "$\\theta = \\hat{\\theta}P^{-1} | * P$\n",
    "\n",
    "$\\theta P = \\hat{\\theta}$\n",
    "\n",
    "$\\hat{\\theta} = \\left[\\begin{matrix}\\theta_{1} & \\theta_{2} & 0\\end{matrix}\\right] * \\left[\\begin{matrix}0.155 & -0.919 & 0.764\\\\ 0 & 1 & -1\\\\0 & 0 & 1\\end{matrix}\\right] = \\left[\\begin{matrix}0.155\\theta_{1} & -0.919\\theta_{1} + \\theta_{2} & 0.764\\theta_{1} - \\theta_{2} \\end{matrix}\\right] $\n",
    "\n",
    "$\\left[\\begin{matrix}0.155\\theta_{1} & -0.919\\theta_{1} + \\theta_{2} & 0.764\\theta_{1} - \\theta_{2} \\end{matrix}\\right] = \\left[\\begin{matrix}\\hat{\\theta_{1}} & 0 & 0\\end{matrix}\\right]$\n",
    "\n",
    "$\\theta_{1} = 0, \\theta_{2} = 0$\n",
    "\n",
    "Следовательно: $\\hat{\\theta_{1}} = 0$ \n",
    "\n",
    "Следовательно, если мы вместо $\\theta_{3}$ будем использовать 0, то $u = 0$. Откуда делаем вывод, что не можем вместо $\\theta_{3}$ использовать 0."
   ]
  },
  {
   "cell_type": "markdown",
   "metadata": {},
   "source": [
    "### (Б) Пара собственных чисел $\\lambda_{2} \\approx -1.138$ и $\\lambda_{3} \\approx 0.919$ перешла в пару вещественных чисел $-2.8, -2.8$ в левой полуплоскости комплексной плоскости.\n",
    "\n",
    "Найдем $\\omega_{2}$ и $\\omega_{3}$ – левые собственные векторы матрицы $A$, соответствующие $\\lambda_{2} \\approx -1.138$ и $\\lambda_{3} \\approx 0.919$:\n",
    "\n",
    "Сначала $\\omega_{2}$:\n",
    "\n",
    "$\\omega^T_{2}A = -1.138\\omega^T_{2}$ \n",
    "\n",
    "$\\omega^T_{2}(A + 1.138I) = 0$ \n",
    "\n",
    "$\\left[\\begin{matrix}\\omega_{1} & \\omega_{2} & \\omega_{3}\\end{matrix}\\right] * \\left[\\begin{matrix}1.138 & 1 & 0\\\\1 & 1.138 & 1\\\\0 & -1 & -3.862\\end{matrix}\\right] = 0$\n",
    "\n",
    "$\\left[\\begin{matrix}1.138\\omega_{1} + \\omega_{2}\\\\\\omega_{1} + 1.138\\omega_{2} - \\omega_{3}\\\\\\omega_{2} - 3.862\\omega_{3}\\end{matrix}\\right] = 0$\n",
    "\n",
    "Решим систему\n",
    "\n",
    "Тогда:\n",
    "\n",
    "$\\omega_{2} = \\left[\\begin{matrix}-3.394\\\\3.862\\\\1\\end{matrix}\\right]$\n",
    "\n",
    "Аналогично для $\\omega_{3}$:\n",
    "\n",
    "$\\omega^T_{3}A = 0.919\\omega^T_{3}$ \n",
    "\n",
    "$\\omega^T_{3}(A - 0.919I) = 0$ \n",
    "\n",
    "$\\left[\\begin{matrix}\\omega_{1} & \\omega_{2} & \\omega_{3}\\end{matrix}\\right] * \\left[\\begin{matrix}-0.919 & 1 & 0\\\\1 & -0.919 & 1\\\\0 & -1 & -5.919 \\end{matrix}\\right] = 0$\n",
    "\n",
    "$\\left[\\begin{matrix}-0.919\\omega_{1} + \\omega_{2}\\\\\\omega_{1} - 0.919\\omega_{2} - \\omega_{3}\\\\\\omega_{2} - 5.919\\omega_{3}\\end{matrix}\\right] = 0$\n",
    "\n",
    "Решим систему\n",
    "\n",
    "Тогда:\n",
    "\n",
    "$\\omega_{3} = \\left[\\begin{matrix}6.439\\\\5.919\\\\1\\end{matrix}\\right]$\n",
    "\n",
    "Теперь мы можем записать матрицу $P^{-1}$, строчками которой являются найденные собственные вектора. В качестве третьего вектора выберем линейно независимый с остальными.\n",
    "\n",
    "$P^{-1} = \\left[\\begin{matrix}-3.394 & 3.862 & 1\\\\6.439 & 5.919 & 1\\\\0 & 0 & 1\\end{matrix}\\right]$\n",
    "\n",
    "Тогда матрица $P$ будет равна:\n",
    "\n",
    "$P = \\left[\\begin{matrix}-0.132 & 0.086 & 0.047\\\\0.143 & 0.076 & -0.219\\\\0 & 0 & 1\\end{matrix}\\right]$\n",
    "\n",
    "$\\hat{A} = P^{-1}AP = \\left[\\begin{matrix}-3.394 & 3.862 & 1\\\\6.439 & 5.919 & 1\\\\0 & 0 & 1\\end{matrix}\\right] * \\left[\\begin{matrix}0 & 1 & 0\\\\1 & 0 & 1\\\\0 & -1 & -5\\end{matrix}\\right] * \\left[\\begin{matrix}-0.132 & 0.086 & 0.047\\\\0.143 & 0.076 & -0.219\\\\0 & 0 & 1\\end{matrix}\\right] = \\left[\\begin{matrix}-1.138 & 0 & 0\\\\0 & 0.919 & 0\\\\-0.143 & -0.076 & -4.781\\end{matrix}\\right]$\n",
    "\n",
    "$\\hat{B} = P^{-1}B =  \\left[\\begin{matrix}-3.394 & 3.862 & 1\\\\6.439 & 5.919 & 1\\\\0 & 0 & 1\\end{matrix}\\right] * \\left[\\begin{matrix}0\\\\0\\\\1\\end{matrix}\\right] = \\left[\\begin{matrix}1\\\\1\\\\1\\end{matrix}\\right]$\n",
    "\n",
    "Управление:\n",
    "\n",
    "$\\hat{\\theta} = \\left[\\begin{matrix}\\hat{\\theta_{1}} & \\hat{\\theta_{2}} & 0\\end{matrix}\\right]$\n",
    "\n",
    "$A_{c} = \\hat{A} + \\hat{B}\\hat{\\theta} = \\left[\\begin{matrix}\\hat{\\theta_{1}}-1.138 & \\hat{\\theta_{2}} & 0\\\\\\hat{\\theta_{1}} & \\hat{\\theta_{2}} + 0.922 & 0\\\\\\hat{\\theta_{1}} -0.143 & \\hat{\\theta_{2}}-0.076 & -4.781\\end{matrix}\\right]$\n",
    "\n",
    "У полученной матрицы рассматриваем главный минор 2-го порядка. Запишем его характеристический многочлен:\n",
    "\n",
    "$\\left[\\begin{matrix}\\hat{\\theta_{1}}-1.138 - \\lambda & \\\\\\hat{\\theta_{2}} \\\\ \\hat{\\theta_{1}} & \\hat{\\theta_{2}} - 0.076 - \\lambda\\end{matrix}\\right] = \\lambda^2 + ( 1.138 + \\hat{\\theta_{1}} + \\hat{\\theta_{2}})\\lambda - (1.643\\hat{\\theta_{1}} + 1.1001\\hat{\\theta_{2}} + 0.5055) = 0$\n",
    "\n",
    "Чтобы решить данное уравнение, применим теорему Виета и подставим желаемые моды:\n",
    "\n",
    "$\\left\\{\n",
    "  \\begin{array}{ccc}\n",
    "    \\hat{\\theta_{1}} - \\hat{\\theta_{2}} = \\lambda_{1}^* + \\lambda_{2}^* = -6.738\\\\\n",
    "    -1.643\\hat{\\theta_{1}} - 1.1001\\hat{\\theta_{2}} = \\lambda_{1}^* \\lambda_{2}^* = 8.345\\\\\n",
    "  \\end{array}\n",
    "\\right.$\n",
    "\n",
    "Отсюда находим $\\hat{\\theta_{1}}$ и $\\hat{\\theta_{2}}$:\n",
    "\n",
    "Тогда $\\hat{\\theta_{1}} = -5.744$\n",
    "\n",
    "$\\hat{\\theta_{2}} = 0.99$\n",
    "\n",
    "Получаем: $\\hat{\\theta} = \\left[\\begin{matrix}2.864 & -5.645 & 0\\end{matrix}\\right]$\n",
    "\n",
    "$u = \\theta x= \\hat{\\theta}P^{-1}x = \\left[\\begin{matrix}-25.897 & -16.2998 & -4.75\\end{matrix}\\right]x$\n",
    "\n",
    "Сделаем проверку:\n",
    "\n",
    "$A + B\\theta = \\left[\\begin{matrix}0 & 1 & 0\\\\1 & 0 & 1\\\\0 & -1 & -5\\end{matrix}\\right] + \\left[\\begin{matrix}0\\\\0\\\\1\\end{matrix}\\right]\\left[\\begin{matrix}-25.897 & -16.2998 & -4.75\\end{matrix}\\right] =  \\left[\\begin{matrix}0 & 1 & 0\\\\1 & 0 & 1\\\\0 & -1 & -5\\end{matrix}\\right] + \\left[\\begin{matrix}0 & 0 & 0\\\\0 & 0 & 0\\\\-25.897 & -16.2998 & -4.75\\end{matrix}\\right] = \\left[\\begin{matrix}0 & 1 & 0\\\\1 & 0 & 1\\\\25.897 & -17.2998 & -9.75\\end{matrix}\\right]$\n",
    "\n",
    "Найдем собственные числа полученной матрицы:\n",
    "\n",
    "$\\lambda_{1} \\approx −4.782$\n",
    "\n",
    "$\\lambda_{2} \\approx -2.8$\n",
    "\n",
    "$\\lambda_{3} \\approx - 2.8$\n"
   ]
  },
  {
   "cell_type": "markdown",
   "metadata": {},
   "source": [
    "### (В) Пара собственных чисел $\\lambda_{2} \\approx -1.138$ и $\\lambda_{3} \\approx 0.919$ перешла в пару комплексно сопряженных чисел $-1.5 \\pm 2.4i$ в левой полуплоскости комплексной плоскости.\n",
    "\n",
    "Найдем $V_{2}$ и $V_{3}$ – левые собственные векторы матрицы $A$, соответствующие $\\lambda_{2} \\approx -1.138$ и $\\lambda_{3} \\approx 0.919$:\n",
    "\n",
    "Сначала $V_{2}$:\n",
    "\n",
    "$V^T_{2}A = -1.138V^T_{2}$ \n",
    "\n",
    "$V^T_{2}(A + 1.138I) = 0$ \n",
    "\n",
    "$\\left[\\begin{matrix}V_{1} & V_{2} & V_{3}\\end{matrix}\\right] * \\left[\\begin{matrix}1.138 & 1 & 0\\\\1 & 1.138 & 1\\\\0 & -1 & -3.862\\end{matrix}\\right] = 0$\n",
    "\n",
    "$\\left[\\begin{matrix}1.138V_{1} + V_{2}\\\\V_{1} + 1.138V_{2} - V_{3}\\\\V_{2} - 3.862V_{3}\\end{matrix}\\right] = 0$\n",
    "\n",
    "Решим полученную систему и найдем собственный вектор:\n",
    "\n",
    "$V_{2} = \\left[\\begin{matrix}-3.394\\\\3.862\\\\1\\end{matrix}\\right]$\n",
    "\n",
    "Аналогично для $V_{3}$:\n",
    "\n",
    "$V^T_{3}A = 0.919V^T_{3}$ \n",
    "\n",
    "$V^T_{3}(A - 0.919I) = 0$ \n",
    "\n",
    "$\\left[\\begin{matrix}V_{1} & V_{2} & V_{3}\\end{matrix}\\right] * \\left[\\begin{matrix}-0.919 & 1 & 0\\\\1 & -0.919 & 1\\\\0 & -1 & -5.919\\end{matrix}\\right] = 0$\n",
    "\n",
    "$\\left[\\begin{matrix}-0.919V_{1} + V_{2}\\\\V_{1} - 0.919V_{2} - V_{3}\\\\V_{2} - 5.919V_{3}\\end{matrix}\\right] = 0$\n",
    "\n",
    "Решим полученную систему и найдем собственный вектор:\n",
    "\n",
    "$V_{3} = \\left[\\begin{matrix}6.439\\\\5.919\\\\1\\end{matrix}\\right]$\n",
    "\n",
    "Теперь мы можем записать матрицу $P^{-1}$, строчками которой являются найденные собственные вектора. В качестве третьего вектора выберем линейно независимый с остальными.\n",
    "\n",
    "$P^{-1} = \\left[\\begin{matrix}-3.394 & 3.862 & 1\\\\6.439 & 5.919 & 1\\\\0 & 0 & 1\\end{matrix}\\right]$\n",
    "\n",
    "Тогда матрица $P$ будет равна:\n",
    "\n",
    "$P = \\left[\\begin{matrix}-0.132 & 0.086 & 0.047\\\\0.143 & 0.076 & -0.219\\\\0 & 0 & 1\\end{matrix}\\right]$\n",
    "\n",
    "$\\hat{A} = P^{-1}AP = \\left[\\begin{matrix}-3.394 & 3.862 & 1\\\\6.439 & 5.919 & 1\\\\0 & 0 & 1\\end{matrix}\\right] * \\left[\\begin{matrix}0 & 1 & 0\\\\1 & 0 & 1\\\\0 & -1 & -5\\end{matrix}\\right] * \\left[\\begin{matrix}-0.132 & 0.086 & 0.047\\\\0.143 & 0.076 & -0.219\\\\0 & 0 & 1\\end{matrix}\\right] = \\left[\\begin{matrix}-1.138 & 0 & 0\\\\0 & 0.919 & 0\\\\-0.143 & -0.076 & -4.781\\end{matrix}\\right]$\n",
    "\n",
    "$\\hat{B} = P^{-1}B =  \\left[\\begin{matrix}-3.394 & 3.862 & 1\\\\6.439 & 5.919 & 1\\\\0 & 0 & 1\\end{matrix}\\right] * \\left[\\begin{matrix}0\\\\0\\\\1\\end{matrix}\\right] = \\left[\\begin{matrix}1\\\\1\\\\1\\end{matrix}\\right]$\n",
    "\n",
    "Управление:\n",
    "\n",
    "$\\hat{\\theta} = \\left[\\begin{matrix}\\theta_{1} & \\theta_{2} & 0\\end{matrix}\\right]$\n",
    "\n",
    "$A_{c} = \\hat{A} + \\hat{B}\\hat{\\theta} = \\left[\\begin{matrix}\\theta_{1}-1.138 & \\theta_{2} & 0\\\\\\theta_{1} & \\theta_{2} + 0.919 & 0\\\\\\theta_{1} -0.143 & \\theta_{2}-0.076 & -4.781\\end{matrix}\\right]$\n",
    "\n",
    "У полученной матрицы рассматриваем главный минор 2-го порядка. Запишем его характеристический многочлен:\n",
    "\n",
    "$\\left[\\begin{matrix}\\theta_{1}-1.138 - \\lambda & \\theta_{2} \\\\\\theta_{1} & \\theta_{2} + 0.919 - \\lambda\\end{matrix}\\right] = \\lambda^2 - (\\theta_{1} + \\theta_{2} - 0.219)\\lambda + (0.919\\theta_{1} - 1.138\\theta_{2} - 1.046) = 0$\n",
    "\n",
    "По теореме Виетта:\n",
    "\n",
    "$\\left\\{\n",
    "  \\begin{array}{ccc}\n",
    "    \\theta_{1} + \\theta_{2} - 0.219 = \\lambda_{1}^* + \\lambda_{2}^* \\\\\n",
    "    0.919\\theta_{1} - 1.138\\theta_{2} - 1.046 = \\lambda_{1}^* \\lambda_{2}^* \\\\\n",
    "  \\end{array}\n",
    "\\right.$\n",
    "\n",
    "Подставляем желаемые моды:\n",
    "\n",
    "$\\left\\{\n",
    "  \\begin{array}{ccc}\n",
    "    \\theta_{1} + \\theta_{2} - 0.219 = \\lambda_{1}^* + \\lambda_{2}^* = -3\\\\\n",
    "    0.919\\theta_{1} - 1.138\\theta_{2} - 1.046 = \\lambda_{1}^* \\lambda_{2}^* = 8.01\\\\\n",
    "  \\end{array}\n",
    "\\right.$\n",
    "\n",
    "Отсюда находим $\\theta_{1}$ и $\\theta_{2}$:\n",
    "\n",
    "Из первого выражения получаем: $\\theta_{1} = -2.781 - \\theta_{2}$\n",
    "\n",
    "Подставляем во второе и получаем: $\\theta_{2} = -5.645$ \n",
    "\n",
    "Тогда $\\theta_{1} = -2.781 + 5.644987 = 2.864$\n",
    "\n",
    "Получаем: $\\hat{\\theta} = \\left[\\begin{matrix}2.864 & -5.645 & 0\\end{matrix}\\right]$\n",
    "\n",
    "$u = \\theta x= \\hat{\\theta}P^{-1}x = \\left[\\begin{matrix}-46.069 & -22.351987 & -2.781\\end{matrix}\\right]x$\n",
    "\n",
    "Сделаем проверку:\n",
    "\n",
    "$A + B\\theta = \\left[\\begin{matrix}0 & 1 & 0\\\\1 & 0 & 1\\\\0 & -1 & -5\\end{matrix}\\right] + \\left[\\begin{matrix}0\\\\0\\\\1\\end{matrix}\\right]\\left[\\begin{matrix}-46.069 & -22.351987 & -2.781\\end{matrix}\\right] =  \\left[\\begin{matrix}0 & 1 & 0\\\\1 & 0 & 1\\\\0 & -1 & -5\\end{matrix}\\right] + \\left[\\begin{matrix}0 & 0 & 0\\\\0 & 0 & 0\\\\-46.069 & -22.351987 & -2.781\\end{matrix}\\right] = \\left[\\begin{matrix}0 & 1 & 0\\\\1 & 0 & 1\\\\-46.069 & -23.351987 & -7.781\\end{matrix}\\right]$\n",
    "\n",
    "Найдем собственные числа полученной матрицы:\n",
    "\n",
    "$\\lambda_{1} \\approx −4.781$\n",
    "\n",
    "$\\lambda_{2} \\approx -1.5 + 2.4i$\n",
    "\n",
    "$\\lambda_{3} \\approx -1.5 - 2.4i$\n",
    "\n",
    "Что и требовалось получить!"
   ]
  },
  {
   "cell_type": "markdown",
   "metadata": {},
   "source": [
    "### (Г) Собственные числа $G\\{A\\} = \\{-4.781, -1.138, 0.919\\}$ с помощью управления необходимо перевести в $G\\{A + \\theta B\\} = \\{-1.3, -2.6, -1.1\\}$\n",
    "\n",
    "Приведем матрицу $A$ к первой нормальной форме Фробениуса:\n",
    "\n",
    "$\\widetilde{A} = S^{-1}_{1} A S_{1} = \\left[\\begin{matrix}0 & 0 & 5\\\\1 & 0 & 0\\\\0 & 1 & -5\\end{matrix}\\right]$\n",
    "\n",
    "Собственные числа матрицы $А$ : $G\\{A\\} = \\{-4.781, -1.138, 0.919\\}$\n",
    "\n",
    "Необходимо перевести в:\n",
    "\n",
    "$G\\{A + \\theta * B\\} = \\{-1.3, -2.6, -1.1\\}$\n",
    "\n",
    "Запишем характеристический многочлен:\n",
    "\n",
    "$(\\lambda + 1.3) *(\\lambda + 2.6) * (\\lambda + 1.1) = \\lambda^{3} + 5 \\lambda^{2} + 7.67 \\lambda + 3.718 = \\lambda^{3} + a^{*}_{1} \\lambda^{2} + a^{*}_{2} \\lambda + a^{*}_{3} = 0$\n",
    "\n",
    "Найдем дополнительную матрицу преобразования $S_{2}$. Для неё необходимо посчитать следующие величины: \n",
    "\n",
    "$\\hat{A} = \\widetilde{A}^{T} = \\left[\\begin{matrix}0 & 1 & 0\\\\0 & 0 & 1\\\\5 & 0 & -5\\end{matrix}\\right] = \\left[\\begin{matrix}0 & 1 & 0\\\\0 & 0 & 1\\\\a_{3} & a_{2} & a_{1}\\end{matrix}\\right]$\n",
    "\n",
    "$\\hat{B} = [0, 0 , 1]^{T}$\n",
    "\n",
    "Матрица $S_{2}$ имеет следующий вид.\n",
    "\n",
    "$S_{2} = C\\{\\hat{A}, \\hat{B}\\} = \\{B, \\hat{A}B, \\hat{A^{2}}B\\} = \\left[\\begin{matrix}0 & 0 & 1\\\\0 & 1 & -5\\\\1 & -5 & 25\\end{matrix}\\right]$\n",
    "\n",
    "Найдем матрицу преобразования $S$\n",
    "\n",
    "$S = S_{1} * S^{-1}_{2} = \\left[\\begin{matrix}1 & 0 & 0\\\\0 & 1 & 0\\\\-1 & 0 & 1\\end{matrix}\\right]$\n",
    "\n",
    "$S^{-1} = \\left[\\begin{matrix}1 & 0 & 0\\\\0 & 1 & 0\\\\1 & 0 & 1\\end{matrix}\\right]$\n",
    "\n",
    "$\\widetilde{\\theta}_{1} = a_{3} - a^{*}_{3}$\n",
    "\n",
    "$\\widetilde{\\theta}_{2} = a_{2} - a^{*}_{2}$\n",
    "\n",
    "$\\widetilde{\\theta}_{3} = a_{1} - a^{*}_{1}$\n",
    "\n",
    "$\\widetilde{\\theta} = (-5 - 3.718, 0 - 7.67, 5 - 5) = ( -8.718, -7.67, 0)$\n",
    "\n",
    "$\\theta = \\widetilde{\\theta} * S^{-1} = \\left[\\begin{matrix}-8.718 & -7.67 & 0\\end{matrix}\\right]$\n",
    "\n",
    "Ответ:\n",
    "\n",
    "$U = \\theta_{1} * x_{1} + \\theta_{2} * x_{2} + \\theta_{3} * x_{3} =  -8.718* x_{1} - 7.67 * x_{2}$\n",
    "\n",
    "Проверка:\n",
    "\n",
    "$A + B\\theta = \\left[\\begin{matrix}0 & 1 & 0\\\\1 & 0 & 1\\\\0 & -1 & -5\\end{matrix}\\right] + \\left[\\begin{matrix}0\\\\0\\\\1\\end{matrix}\\right]\\left[\\begin{matrix}-8.718 & -7.67 & 0\\end{matrix}\\right] =  \\left[\\begin{matrix}0 & 1 & 0\\\\1 & 0 & 1\\\\0 & -1 & -5\\end{matrix}\\right] + \\left[\\begin{matrix}0 & 0 & 0\\\\0 & 0 & 0\\\\-8.718 & -7.67 & 0\\end{matrix}\\right] = \\left[\\begin{matrix}0 & 1 & 0\\\\1 & 0 & 1\\\\-8.718 & -8.67 & -5\\end{matrix}\\right]$\n",
    "\n",
    "Собственные числа матрицы:\n",
    "\n",
    "$\\lambda_{1} = −1.3$\n",
    "\n",
    "$\\lambda_{2} = -2.6$\n",
    "\n",
    "$\\lambda_{3} = -1.1$\n",
    "\n",
    "Что и требовалось получить."
   ]
  },
  {
   "cell_type": "code",
   "execution_count": 93,
   "metadata": {},
   "outputs": [],
   "source": [
    "import sympy as sp\n",
    "import numpy as np"
   ]
  },
  {
   "cell_type": "code",
   "execution_count": 200,
   "metadata": {
    "scrolled": true
   },
   "outputs": [
    {
     "data": {
      "image/png": "[encoded data removed]",
      "text/plain": [
       "<Figure size 460.8x316.8 with 1 Axes>"
      ]
     },
     "metadata": {
      "needs_background": "light"
     },
     "output_type": "display_data"
    },
    {
     "name": "stdout",
     "output_type": "stream",
     "text": [
      "5.505463075019393e-09\n",
      "1.1864607179898187e-08\n",
      "-1.4852069460226778e-07\n"
     ]
    }
   ],
   "source": [
    "import numpy as np\n",
    "import matplotlib.pyplot as plt\n",
    "from scipy.integrate import solve_ivp\n",
    "plt.style.use('seaborn-paper')\n",
    "\n",
    "def param_lin_system(**kwargs):\n",
    "    a = 5\n",
    "    thetta = [1,1,1]\n",
    "    \n",
    "    if 'a' in kwargs:\n",
    "        a = kwargs['a']\n",
    "    \n",
    "    if 'thetta' in kwargs:\n",
    "        thetta = kwargs['thetta']\n",
    "        \n",
    "    def control(x):\n",
    "        return np.dot(thetta, x)\n",
    "    \n",
    "    def system(t, x: np.array):\n",
    "        return np.array([\n",
    "            x[1],\n",
    "            x[0] + x[2],\n",
    "            -x[1] - a * x[2] + control(x)\n",
    "        ])\n",
    "    return system\n",
    "\n",
    "\n",
    "pendulum_system = param_lin_system(thetta = [-46.069,-22.351987,-2.781])\n",
    "time_span = np.arange(0, 30., 0.1)\n",
    "data = solve_ivp(pendulum_system, (time_span[0], time_span[-1]), np.array([-20, 5, -10]), t_eval=time_span)\n",
    "plt.plot(time_span, data.y[0], time_span, data.y[1], time_span, data.y[2])\n",
    "plt.legend(['x', 'x_dot'], fontsize=16)\n",
    "plt.xlabel('time', fontsize=24)\n",
    "plt.show()\n",
    "print(np.median(data.y[0]))\n",
    "print(np.median(data.y[1]))\n",
    "print(np.median(data.y[2]))"
   ]
  },
  {
   "cell_type": "code",
   "execution_count": 218,
   "metadata": {
    "collapsed": true
   },
   "outputs": [
    {
     "name": "stdout",
     "output_type": "stream",
     "text": [
      "  message: 'Required step size is less than spacing between numbers.'\n",
      "     nfev: 806\n",
      "     njev: 0\n",
      "      nlu: 0\n",
      "      sol: None\n",
      "   status: -1\n",
      "  success: False\n",
      "        t: array([0.  , 0.01, 0.02, 0.03, 0.04, 0.05, 0.06, 0.07, 0.08, 0.09, 0.1 ,\n",
      "       0.11, 0.12, 0.13, 0.14, 0.15, 0.16, 0.17, 0.18, 0.19, 0.2 , 0.21,\n",
      "       0.22])\n",
      " t_events: None\n",
      "        y: array([[-1.00000000e-01, -6.89537841e-02, -3.78779747e-02,\n",
      "        -6.81705890e-03,  2.42161443e-02,  5.52145230e-02,\n",
      "         8.62154864e-02,  1.17301404e-01,  1.48599604e-01,\n",
      "         1.80282378e-01,  2.12568602e-01,  2.45688632e-01,\n",
      "         2.79867272e-01,  3.15444170e-01,  3.52886270e-01,\n",
      "         3.92788025e-01,  4.35882483e-01,  4.83162080e-01,\n",
      "         5.36119516e-01,  5.97028198e-01,  6.69835210e-01,\n",
      "         7.62806537e-01,  9.04359582e-01],\n",
      "       [ 3.10000000e+00,  3.10746618e+00,  3.10672085e+00,\n",
      "         3.10235481e+00,  3.09816095e+00,  3.09741270e+00,\n",
      "         3.10344598e+00,  3.11966429e+00,  3.14953867e+00,\n",
      "         3.19660772e+00,  3.26455843e+00,  3.35781377e+00,\n",
      "         3.48190034e+00,  3.64503704e+00,  3.85834353e+00,\n",
      "         4.13588151e+00,  4.49884322e+00,  4.98234329e+00,\n",
      "         5.64562762e+00,  6.59869714e+00,  8.08721594e+00,\n",
      "         1.08487908e+01,  2.02222524e+01],\n",
      "       [ 1.10000000e+00,  3.14710923e-01, -3.96386271e-01,\n",
      "        -1.04086253e+00, -1.62600499e+00, -2.15816076e+00,\n",
      "        -2.64361237e+00, -3.08858784e+00, -3.49926057e+00,\n",
      "        -3.88174945e+00, -4.24205451e+00, -4.58489015e+00,\n",
      "        -4.91408432e+00, -5.23366833e+00, -5.54789282e+00,\n",
      "        -5.86121592e+00, -6.17697818e+00, -6.49716641e+00,\n",
      "        -6.82286140e+00, -7.15182960e+00, -7.47374766e+00,\n",
      "        -7.75374472e+00, -7.82143874e+00]])\n"
     ]
    },
    {
     "ename": "ValueError",
     "evalue": "x and y must have same first dimension, but have shapes (160,) and (23,)",
     "output_type": "error",
     "traceback": [
      "\u001b[0;31m---------------------------------------------------------------------------\u001b[0m",
      "\u001b[0;31mValueError\u001b[0m                                Traceback (most recent call last)",
      "\u001b[0;32m<ipython-input-218-44ab46a7662d>\u001b[0m in \u001b[0;36m<module>\u001b[0;34m\u001b[0m\n\u001b[1;32m     25\u001b[0m \u001b[0mdata\u001b[0m \u001b[0;34m=\u001b[0m \u001b[0msolve_ivp\u001b[0m\u001b[0;34m(\u001b[0m\u001b[0mpendulum_system\u001b[0m\u001b[0;34m,\u001b[0m \u001b[0;34m(\u001b[0m\u001b[0mtime_span\u001b[0m\u001b[0;34m[\u001b[0m\u001b[0;36m0\u001b[0m\u001b[0;34m]\u001b[0m\u001b[0;34m,\u001b[0m \u001b[0mtime_span\u001b[0m\u001b[0;34m[\u001b[0m\u001b[0;34m-\u001b[0m\u001b[0;36m1\u001b[0m\u001b[0;34m]\u001b[0m\u001b[0;34m)\u001b[0m\u001b[0;34m,\u001b[0m \u001b[0mnp\u001b[0m\u001b[0;34m.\u001b[0m\u001b[0marray\u001b[0m\u001b[0;34m(\u001b[0m\u001b[0;34m[\u001b[0m\u001b[0;34m-\u001b[0m\u001b[0;36m0.1\u001b[0m\u001b[0;34m,\u001b[0m \u001b[0;36m3.1\u001b[0m\u001b[0;34m,\u001b[0m \u001b[0;36m1.1\u001b[0m\u001b[0;34m]\u001b[0m\u001b[0;34m)\u001b[0m\u001b[0;34m,\u001b[0m \u001b[0mt_eval\u001b[0m\u001b[0;34m=\u001b[0m\u001b[0mtime_span\u001b[0m\u001b[0;34m)\u001b[0m\u001b[0;34m\u001b[0m\u001b[0;34m\u001b[0m\u001b[0m\n\u001b[1;32m     26\u001b[0m \u001b[0mprint\u001b[0m\u001b[0;34m(\u001b[0m\u001b[0mdata\u001b[0m\u001b[0;34m)\u001b[0m\u001b[0;34m\u001b[0m\u001b[0;34m\u001b[0m\u001b[0m\n\u001b[0;32m---> 27\u001b[0;31m \u001b[0mplt\u001b[0m\u001b[0;34m.\u001b[0m\u001b[0mplot\u001b[0m\u001b[0;34m(\u001b[0m\u001b[0mtime_span\u001b[0m\u001b[0;34m,\u001b[0m \u001b[0mdata\u001b[0m\u001b[0;34m.\u001b[0m\u001b[0my\u001b[0m\u001b[0;34m[\u001b[0m\u001b[0;36m0\u001b[0m\u001b[0;34m]\u001b[0m\u001b[0;34m,\u001b[0m \u001b[0mtime_span\u001b[0m\u001b[0;34m,\u001b[0m \u001b[0mdata\u001b[0m\u001b[0;34m.\u001b[0m\u001b[0my\u001b[0m\u001b[0;34m[\u001b[0m\u001b[0;36m1\u001b[0m\u001b[0;34m]\u001b[0m\u001b[0;34m,\u001b[0m \u001b[0mtime_span\u001b[0m\u001b[0;34m,\u001b[0m \u001b[0mdata\u001b[0m\u001b[0;34m.\u001b[0m\u001b[0my\u001b[0m\u001b[0;34m[\u001b[0m\u001b[0;36m2\u001b[0m\u001b[0;34m]\u001b[0m\u001b[0;34m)\u001b[0m\u001b[0;34m\u001b[0m\u001b[0;34m\u001b[0m\u001b[0m\n\u001b[0m\u001b[1;32m     28\u001b[0m \u001b[0mplt\u001b[0m\u001b[0;34m.\u001b[0m\u001b[0mlegend\u001b[0m\u001b[0;34m(\u001b[0m\u001b[0;34m[\u001b[0m\u001b[0;34m'x'\u001b[0m\u001b[0;34m,\u001b[0m \u001b[0;34m'x_dot'\u001b[0m\u001b[0;34m]\u001b[0m\u001b[0;34m,\u001b[0m \u001b[0mfontsize\u001b[0m\u001b[0;34m=\u001b[0m\u001b[0;36m16\u001b[0m\u001b[0;34m)\u001b[0m\u001b[0;34m\u001b[0m\u001b[0;34m\u001b[0m\u001b[0m\n\u001b[1;32m     29\u001b[0m \u001b[0mplt\u001b[0m\u001b[0;34m.\u001b[0m\u001b[0mxlabel\u001b[0m\u001b[0;34m(\u001b[0m\u001b[0;34m'time'\u001b[0m\u001b[0;34m,\u001b[0m \u001b[0mfontsize\u001b[0m\u001b[0;34m=\u001b[0m\u001b[0;36m24\u001b[0m\u001b[0;34m)\u001b[0m\u001b[0;34m\u001b[0m\u001b[0;34m\u001b[0m\u001b[0m\n",
      "\u001b[0;32m~/anaconda3/lib/python3.7/site-packages/matplotlib/pyplot.py\u001b[0m in \u001b[0;36mplot\u001b[0;34m(scalex, scaley, data, *args, **kwargs)\u001b[0m\n\u001b[1;32m   2787\u001b[0m     return gca().plot(\n\u001b[1;32m   2788\u001b[0m         *args, scalex=scalex, scaley=scaley, **({\"data\": data} if data\n\u001b[0;32m-> 2789\u001b[0;31m         is not None else {}), **kwargs)\n\u001b[0m\u001b[1;32m   2790\u001b[0m \u001b[0;34m\u001b[0m\u001b[0m\n\u001b[1;32m   2791\u001b[0m \u001b[0;34m\u001b[0m\u001b[0m\n",
      "\u001b[0;32m~/anaconda3/lib/python3.7/site-packages/matplotlib/axes/_axes.py\u001b[0m in \u001b[0;36mplot\u001b[0;34m(self, scalex, scaley, data, *args, **kwargs)\u001b[0m\n\u001b[1;32m   1664\u001b[0m         \"\"\"\n\u001b[1;32m   1665\u001b[0m         \u001b[0mkwargs\u001b[0m \u001b[0;34m=\u001b[0m \u001b[0mcbook\u001b[0m\u001b[0;34m.\u001b[0m\u001b[0mnormalize_kwargs\u001b[0m\u001b[0;34m(\u001b[0m\u001b[0mkwargs\u001b[0m\u001b[0;34m,\u001b[0m \u001b[0mmlines\u001b[0m\u001b[0;34m.\u001b[0m\u001b[0mLine2D\u001b[0m\u001b[0;34m.\u001b[0m\u001b[0m_alias_map\u001b[0m\u001b[0;34m)\u001b[0m\u001b[0;34m\u001b[0m\u001b[0;34m\u001b[0m\u001b[0m\n\u001b[0;32m-> 1666\u001b[0;31m         \u001b[0mlines\u001b[0m \u001b[0;34m=\u001b[0m \u001b[0;34m[\u001b[0m\u001b[0;34m*\u001b[0m\u001b[0mself\u001b[0m\u001b[0;34m.\u001b[0m\u001b[0m_get_lines\u001b[0m\u001b[0;34m(\u001b[0m\u001b[0;34m*\u001b[0m\u001b[0margs\u001b[0m\u001b[0;34m,\u001b[0m \u001b[0mdata\u001b[0m\u001b[0;34m=\u001b[0m\u001b[0mdata\u001b[0m\u001b[0;34m,\u001b[0m \u001b[0;34m**\u001b[0m\u001b[0mkwargs\u001b[0m\u001b[0;34m)\u001b[0m\u001b[0;34m]\u001b[0m\u001b[0;34m\u001b[0m\u001b[0;34m\u001b[0m\u001b[0m\n\u001b[0m\u001b[1;32m   1667\u001b[0m         \u001b[0;32mfor\u001b[0m \u001b[0mline\u001b[0m \u001b[0;32min\u001b[0m \u001b[0mlines\u001b[0m\u001b[0;34m:\u001b[0m\u001b[0;34m\u001b[0m\u001b[0;34m\u001b[0m\u001b[0m\n\u001b[1;32m   1668\u001b[0m             \u001b[0mself\u001b[0m\u001b[0;34m.\u001b[0m\u001b[0madd_line\u001b[0m\u001b[0;34m(\u001b[0m\u001b[0mline\u001b[0m\u001b[0;34m)\u001b[0m\u001b[0;34m\u001b[0m\u001b[0;34m\u001b[0m\u001b[0m\n",
      "\u001b[0;32m~/anaconda3/lib/python3.7/site-packages/matplotlib/axes/_base.py\u001b[0m in \u001b[0;36m__call__\u001b[0;34m(self, *args, **kwargs)\u001b[0m\n\u001b[1;32m    223\u001b[0m                 \u001b[0mthis\u001b[0m \u001b[0;34m+=\u001b[0m \u001b[0margs\u001b[0m\u001b[0;34m[\u001b[0m\u001b[0;36m0\u001b[0m\u001b[0;34m]\u001b[0m\u001b[0;34m,\u001b[0m\u001b[0;34m\u001b[0m\u001b[0;34m\u001b[0m\u001b[0m\n\u001b[1;32m    224\u001b[0m                 \u001b[0margs\u001b[0m \u001b[0;34m=\u001b[0m \u001b[0margs\u001b[0m\u001b[0;34m[\u001b[0m\u001b[0;36m1\u001b[0m\u001b[0;34m:\u001b[0m\u001b[0;34m]\u001b[0m\u001b[0;34m\u001b[0m\u001b[0;34m\u001b[0m\u001b[0m\n\u001b[0;32m--> 225\u001b[0;31m             \u001b[0;32myield\u001b[0m \u001b[0;32mfrom\u001b[0m \u001b[0mself\u001b[0m\u001b[0;34m.\u001b[0m\u001b[0m_plot_args\u001b[0m\u001b[0;34m(\u001b[0m\u001b[0mthis\u001b[0m\u001b[0;34m,\u001b[0m \u001b[0mkwargs\u001b[0m\u001b[0;34m)\u001b[0m\u001b[0;34m\u001b[0m\u001b[0;34m\u001b[0m\u001b[0m\n\u001b[0m\u001b[1;32m    226\u001b[0m \u001b[0;34m\u001b[0m\u001b[0m\n\u001b[1;32m    227\u001b[0m     \u001b[0;32mdef\u001b[0m \u001b[0mget_next_color\u001b[0m\u001b[0;34m(\u001b[0m\u001b[0mself\u001b[0m\u001b[0;34m)\u001b[0m\u001b[0;34m:\u001b[0m\u001b[0;34m\u001b[0m\u001b[0;34m\u001b[0m\u001b[0m\n",
      "\u001b[0;32m~/anaconda3/lib/python3.7/site-packages/matplotlib/axes/_base.py\u001b[0m in \u001b[0;36m_plot_args\u001b[0;34m(self, tup, kwargs)\u001b[0m\n\u001b[1;32m    389\u001b[0m             \u001b[0mx\u001b[0m\u001b[0;34m,\u001b[0m \u001b[0my\u001b[0m \u001b[0;34m=\u001b[0m \u001b[0mindex_of\u001b[0m\u001b[0;34m(\u001b[0m\u001b[0mtup\u001b[0m\u001b[0;34m[\u001b[0m\u001b[0;34m-\u001b[0m\u001b[0;36m1\u001b[0m\u001b[0;34m]\u001b[0m\u001b[0;34m)\u001b[0m\u001b[0;34m\u001b[0m\u001b[0;34m\u001b[0m\u001b[0m\n\u001b[1;32m    390\u001b[0m \u001b[0;34m\u001b[0m\u001b[0m\n\u001b[0;32m--> 391\u001b[0;31m         \u001b[0mx\u001b[0m\u001b[0;34m,\u001b[0m \u001b[0my\u001b[0m \u001b[0;34m=\u001b[0m \u001b[0mself\u001b[0m\u001b[0;34m.\u001b[0m\u001b[0m_xy_from_xy\u001b[0m\u001b[0;34m(\u001b[0m\u001b[0mx\u001b[0m\u001b[0;34m,\u001b[0m \u001b[0my\u001b[0m\u001b[0;34m)\u001b[0m\u001b[0;34m\u001b[0m\u001b[0;34m\u001b[0m\u001b[0m\n\u001b[0m\u001b[1;32m    392\u001b[0m \u001b[0;34m\u001b[0m\u001b[0m\n\u001b[1;32m    393\u001b[0m         \u001b[0;32mif\u001b[0m \u001b[0mself\u001b[0m\u001b[0;34m.\u001b[0m\u001b[0mcommand\u001b[0m \u001b[0;34m==\u001b[0m \u001b[0;34m'plot'\u001b[0m\u001b[0;34m:\u001b[0m\u001b[0;34m\u001b[0m\u001b[0;34m\u001b[0m\u001b[0m\n",
      "\u001b[0;32m~/anaconda3/lib/python3.7/site-packages/matplotlib/axes/_base.py\u001b[0m in \u001b[0;36m_xy_from_xy\u001b[0;34m(self, x, y)\u001b[0m\n\u001b[1;32m    268\u001b[0m         \u001b[0;32mif\u001b[0m \u001b[0mx\u001b[0m\u001b[0;34m.\u001b[0m\u001b[0mshape\u001b[0m\u001b[0;34m[\u001b[0m\u001b[0;36m0\u001b[0m\u001b[0;34m]\u001b[0m \u001b[0;34m!=\u001b[0m \u001b[0my\u001b[0m\u001b[0;34m.\u001b[0m\u001b[0mshape\u001b[0m\u001b[0;34m[\u001b[0m\u001b[0;36m0\u001b[0m\u001b[0;34m]\u001b[0m\u001b[0;34m:\u001b[0m\u001b[0;34m\u001b[0m\u001b[0;34m\u001b[0m\u001b[0m\n\u001b[1;32m    269\u001b[0m             raise ValueError(\"x and y must have same first dimension, but \"\n\u001b[0;32m--> 270\u001b[0;31m                              \"have shapes {} and {}\".format(x.shape, y.shape))\n\u001b[0m\u001b[1;32m    271\u001b[0m         \u001b[0;32mif\u001b[0m \u001b[0mx\u001b[0m\u001b[0;34m.\u001b[0m\u001b[0mndim\u001b[0m \u001b[0;34m>\u001b[0m \u001b[0;36m2\u001b[0m \u001b[0;32mor\u001b[0m \u001b[0my\u001b[0m\u001b[0;34m.\u001b[0m\u001b[0mndim\u001b[0m \u001b[0;34m>\u001b[0m \u001b[0;36m2\u001b[0m\u001b[0;34m:\u001b[0m\u001b[0;34m\u001b[0m\u001b[0;34m\u001b[0m\u001b[0m\n\u001b[1;32m    272\u001b[0m             raise ValueError(\"x and y can be no greater than 2-D, but have \"\n",
      "\u001b[0;31mValueError\u001b[0m: x and y must have same first dimension, but have shapes (160,) and (23,)"
     ]
    },
    {
     "data": {
      "image/png": "[encoded data removed]",
      "text/plain": [
       "<Figure size 460.8x316.8 with 1 Axes>"
      ]
     },
     "metadata": {
      "needs_background": "light"
     },
     "output_type": "display_data"
    }
   ],
   "source": [
    "def param_system(**kwargs):\n",
    "    a = 5\n",
    "    thetta = [0,0,0]\n",
    "    \n",
    "    if 'a' in kwargs:\n",
    "        a = kwargs['a']\n",
    "    \n",
    "    if 'thetta' in kwargs:\n",
    "        thetta = kwargs['thetta']\n",
    "        \n",
    "    def control(x):\n",
    "        return np.dot(thetta, x)\n",
    "    \n",
    "    def system(t, x: np.array):\n",
    "        return np.array([\n",
    "            x[1],\n",
    "            0.5 * (((1+x[2])**2)/((1-x[0])**2) - 1),\n",
    "            -(1+x[2])/(1-x[0]) - a*(1-x[0])*x[2] + (1-x[0])*control(x)\n",
    "        ])\n",
    "    return system\n",
    "\n",
    "\n",
    "pendulum_system = param_system(thetta = [-46.069,-22.351987,-2.781])\n",
    "time_span = np.arange(0, 1.6, 0.01)\n",
    "data = solve_ivp(pendulum_system, (time_span[0], time_span[-1]), np.array([-0.1, 3.1, 1.1]), t_eval=time_span)\n",
    "print(data)\n",
    "plt.plot(time_span, data.y[0], time_span, data.y[1], time_span, data.y[2])\n",
    "plt.legend(['x', 'x_dot'], fontsize=16)\n",
    "plt.xlabel('time', fontsize=24)\n",
    "plt.show()\n",
    "print(np.median(data.y[0]))\n",
    "print(np.median(data.y[1]))\n",
    "print(np.median(data.y[2]))"
   ]
  },
  {
   "cell_type": "code",
   "execution_count": 153,
   "metadata": {},
   "outputs": [],
   "source": [
    "A = sp.Matrix([[0, 1, 0], [1, 0 , 1], [0, -1, -5]])\n",
    "B = sp.Matrix([0,0,1])"
   ]
  },
  {
   "cell_type": "code",
   "execution_count": 95,
   "metadata": {},
   "outputs": [
    {
     "data": {
      "text/latex": [
       "$\\displaystyle \\left[\\begin{matrix}0 & 1 & 0\\\\1 & 0 & 1\\\\0 & -1 & -5\\end{matrix}\\right]$"
      ],
      "text/plain": [
       "Matrix([\n",
       "[0,  1,  0],\n",
       "[1,  0,  1],\n",
       "[0, -1, -5]])"
      ]
     },
     "execution_count": 95,
     "metadata": {},
     "output_type": "execute_result"
    }
   ],
   "source": [
    "A"
   ]
  },
  {
   "cell_type": "code",
   "execution_count": 96,
   "metadata": {},
   "outputs": [
    {
     "data": {
      "text/latex": [
       "$\\displaystyle \\left[\\begin{matrix}0\\\\0\\\\1\\end{matrix}\\right]$"
      ],
      "text/plain": [
       "Matrix([\n",
       "[0],\n",
       "[0],\n",
       "[1]])"
      ]
     },
     "execution_count": 96,
     "metadata": {},
     "output_type": "execute_result"
    }
   ],
   "source": [
    "B"
   ]
  },
  {
   "cell_type": "code",
   "execution_count": 97,
   "metadata": {},
   "outputs": [],
   "source": [
    "C = B\n",
    "C = C.row_join(A*B)\n",
    "C = C.row_join(A*A*B)"
   ]
  },
  {
   "cell_type": "code",
   "execution_count": 98,
   "metadata": {},
   "outputs": [
    {
     "data": {
      "text/latex": [
       "$\\displaystyle \\left[\\begin{matrix}0 & 0 & 1\\\\0 & 1 & -5\\\\1 & -5 & 24\\end{matrix}\\right]$"
      ],
      "text/plain": [
       "Matrix([\n",
       "[0,  0,  1],\n",
       "[0,  1, -5],\n",
       "[1, -5, 24]])"
      ]
     },
     "execution_count": 98,
     "metadata": {},
     "output_type": "execute_result"
    }
   ],
   "source": [
    "C"
   ]
  },
  {
   "cell_type": "code",
   "execution_count": 99,
   "metadata": {},
   "outputs": [
    {
     "data": {
      "text/plain": [
       "3"
      ]
     },
     "execution_count": 99,
     "metadata": {},
     "output_type": "execute_result"
    }
   ],
   "source": [
    "C.rank()"
   ]
  },
  {
   "cell_type": "code",
   "execution_count": 100,
   "metadata": {},
   "outputs": [],
   "source": [
    "C_inv = C.inv()"
   ]
  },
  {
   "cell_type": "code",
   "execution_count": 101,
   "metadata": {},
   "outputs": [],
   "source": [
    "A1 = C_inv * A * C"
   ]
  },
  {
   "cell_type": "code",
   "execution_count": 102,
   "metadata": {},
   "outputs": [],
   "source": [
    "B1 = C_inv * B"
   ]
  },
  {
   "cell_type": "code",
   "execution_count": 103,
   "metadata": {},
   "outputs": [
    {
     "data": {
      "text/latex": [
       "$\\displaystyle \\left[\\begin{matrix}1\\\\0\\\\0\\end{matrix}\\right]$"
      ],
      "text/plain": [
       "Matrix([\n",
       "[1],\n",
       "[0],\n",
       "[0]])"
      ]
     },
     "execution_count": 103,
     "metadata": {},
     "output_type": "execute_result"
    }
   ],
   "source": [
    "B1"
   ]
  },
  {
   "cell_type": "code",
   "execution_count": 221,
   "metadata": {},
   "outputs": [
    {
     "name": "stdout",
     "output_type": "stream",
     "text": [
      "\\left[\\begin{matrix}0 & 0 & 5\\\\1 & 0 & 0\\\\0 & 1 & -5\\end{matrix}\\right]\n"
     ]
    }
   ],
   "source": [
    "print(sp.latex(A1))"
   ]
  },
  {
   "cell_type": "code",
   "execution_count": 105,
   "metadata": {},
   "outputs": [],
   "source": [
    "A2 = A1.transpose()\n",
    "B2 = sp.Matrix([0, 0, 1])"
   ]
  },
  {
   "cell_type": "code",
   "execution_count": 106,
   "metadata": {},
   "outputs": [],
   "source": [
    "C2 = B2\n",
    "C2 = C2.row_join(A2*B2)\n",
    "C2 = C2.row_join(A2*A2*B2)"
   ]
  },
  {
   "cell_type": "code",
   "execution_count": 107,
   "metadata": {},
   "outputs": [],
   "source": [
    "C2\n",
    "C2_inv = C2.inv()"
   ]
  },
  {
   "cell_type": "code",
   "execution_count": 108,
   "metadata": {},
   "outputs": [],
   "source": [
    "C3 = (C*C2_inv)"
   ]
  },
  {
   "cell_type": "code",
   "execution_count": 109,
   "metadata": {},
   "outputs": [],
   "source": [
    "y=sp.Symbol('y')\n",
    "a = (y + 1.3) *(y + 2.6) * (y + 1.1)"
   ]
  },
  {
   "cell_type": "code",
   "execution_count": 110,
   "metadata": {},
   "outputs": [
    {
     "data": {
      "text/latex": [
       "$\\displaystyle y^{3} + 5.0 y^{2} + 7.67 y + 3.718$"
      ],
      "text/plain": [
       "y**3 + 5.0*y**2 + 7.67*y + 3.718"
      ]
     },
     "execution_count": 110,
     "metadata": {},
     "output_type": "execute_result"
    }
   ],
   "source": [
    "sp.expand(a)"
   ]
  },
  {
   "cell_type": "code",
   "execution_count": null,
   "metadata": {},
   "outputs": [],
   "source": []
  },
  {
   "cell_type": "code",
   "execution_count": 121,
   "metadata": {},
   "outputs": [],
   "source": [
    "teta = sp.Matrix([-8.718,-7.67,0]).transpose()"
   ]
  },
  {
   "cell_type": "code",
   "execution_count": 122,
   "metadata": {},
   "outputs": [
    {
     "data": {
      "text/latex": [
       "$\\displaystyle \\left[\\begin{matrix}-8.718 & -7.67 & 0\\end{matrix}\\right]$"
      ],
      "text/plain": [
       "Matrix([[-8.718, -7.67, 0]])"
      ]
     },
     "execution_count": 122,
     "metadata": {},
     "output_type": "execute_result"
    }
   ],
   "source": [
    "teta"
   ]
  },
  {
   "cell_type": "code",
   "execution_count": 125,
   "metadata": {},
   "outputs": [],
   "source": [
    "tmp = teta * C3.inv()"
   ]
  },
  {
   "cell_type": "code",
   "execution_count": 124,
   "metadata": {},
   "outputs": [
    {
     "data": {
      "text/latex": [
       "$\\displaystyle \\left[\\begin{matrix}1 & 0 & 0\\\\0 & 1 & 0\\\\1 & 0 & 1\\end{matrix}\\right]$"
      ],
      "text/plain": [
       "Matrix([\n",
       "[1, 0, 0],\n",
       "[0, 1, 0],\n",
       "[1, 0, 1]])"
      ]
     },
     "execution_count": 124,
     "metadata": {},
     "output_type": "execute_result"
    }
   ],
   "source": [
    "C3.inv()"
   ]
  },
  {
   "cell_type": "code",
   "execution_count": 219,
   "metadata": {},
   "outputs": [
    {
     "data": {
      "text/latex": [
       "$\\displaystyle \\left[\\begin{matrix}0 & 1 & 0\\\\1 & 0 & 1\\\\-8.718 & -8.67 & -5\\end{matrix}\\right]$"
      ],
      "text/plain": [
       "Matrix([\n",
       "[     0,     1,  0],\n",
       "[     1,     0,  1],\n",
       "[-8.718, -8.67, -5]])"
      ]
     },
     "execution_count": 219,
     "metadata": {},
     "output_type": "execute_result"
    }
   ],
   "source": [
    "(A + B * tmp)"
   ]
  },
  {
   "cell_type": "code",
   "execution_count": 220,
   "metadata": {},
   "outputs": [
    {
     "data": {
      "text/latex": [
       "$\\displaystyle \\left[\\begin{matrix}0 & 0 & 0\\\\0 & 0 & 0\\\\-8.718 & -7.67 & 0\\end{matrix}\\right]$"
      ],
      "text/plain": [
       "Matrix([\n",
       "[     0,     0, 0],\n",
       "[     0,     0, 0],\n",
       "[-8.718, -7.67, 0]])"
      ]
     },
     "execution_count": 220,
     "metadata": {},
     "output_type": "execute_result"
    }
   ],
   "source": [
    " B * tmp"
   ]
  },
  {
   "cell_type": "code",
   "execution_count": null,
   "metadata": {},
   "outputs": [],
   "source": []
  }
 ],
 "metadata": {
  "kernelspec": {
   "display_name": "Python 3",
   "language": "python",
   "name": "python3"
  },
  "language_info": {
   "codemirror_mode": {
    "name": "ipython",
    "version": 3
   },
   "file_extension": ".py",
   "mimetype": "text/x-python",
   "name": "python",
   "nbconvert_exporter": "python",
   "pygments_lexer": "ipython3",
   "version": "3.7.3"
  }
 },
 "nbformat": 4,
 "nbformat_minor": 2
}
